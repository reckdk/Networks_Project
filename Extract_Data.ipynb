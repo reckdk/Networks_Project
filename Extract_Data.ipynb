{
 "cells": [
  {
   "cell_type": "code",
   "execution_count": 1,
   "metadata": {},
   "outputs": [],
   "source": [
    "import xml.etree.ElementTree as ET\n",
    "import numpy as np\n",
    "import os\n",
    "import time"
   ]
  },
  {
   "cell_type": "code",
   "execution_count": 3,
   "metadata": {},
   "outputs": [
    {
     "name": "stdout",
     "output_type": "stream",
     "text": [
      "TestbedSunJun13Flows.xml\n",
      "Reading File  TestbedSunJun13Flows.xml\n"
     ]
    },
    {
     "name": "stderr",
     "output_type": "stream",
     "text": [
      "/home/reck/anaconda2/envs/dev-reck-py36/lib/python3.6/site-packages/ipykernel_launcher.py:34: DeprecationWarning: The binary mode of fromstring is deprecated, as it behaves surprisingly on unicode inputs. Use frombuffer instead\n",
      "/home/reck/anaconda2/envs/dev-reck-py36/lib/python3.6/site-packages/ipykernel_launcher.py:36: DeprecationWarning: The binary mode of fromstring is deprecated, as it behaves surprisingly on unicode inputs. Use frombuffer instead\n"
     ]
    },
    {
     "name": "stdout",
     "output_type": "stream",
     "text": [
      "Time taken: 137.71474766731262\n",
      "TestbedSunJun13Flows.xsd\n",
      "Reading File  TestbedSunJun13Flows.xsd\n",
      "Time taken: 2.181337594985962\n",
      "TestbedWedJun16-2Flows.xml\n",
      "Reading File  TestbedWedJun16-2Flows.xml\n",
      "Time taken: 27.144254446029663\n",
      "TestbedTueJun15-1Flows.xsd\n",
      "Reading File  TestbedTueJun15-1Flows.xsd\n",
      "Time taken: 1.2702534198760986\n",
      "TestbedTueJun15-2Flows.xml\n",
      "Reading File  TestbedTueJun15-2Flows.xml\n",
      "Time taken: 48.14894485473633\n",
      "TestbedWedJun16-1Flows.xml\n",
      "Reading File  TestbedWedJun16-1Flows.xml\n",
      "Time taken: 45.95527768135071\n",
      "TestbedWedJun16-1Flows.xsd\n",
      "Reading File  TestbedWedJun16-1Flows.xsd\n",
      "Time taken: 1.483229637145996\n",
      "TestbedTueJun15-3Flows.xsd\n",
      "Reading File  TestbedTueJun15-3Flows.xsd\n",
      "Time taken: 0.001935720443725586\n",
      "TestbedTueJun15-2Flows.xsd\n",
      "Reading File  TestbedTueJun15-2Flows.xsd\n",
      "Time taken: 0.0013527870178222656\n",
      "TestbedThuJun17-1Flows.xsd\n",
      "Reading File  TestbedThuJun17-1Flows.xsd\n",
      "Time taken: 0.001165151596069336\n",
      "TestbedWedJun16-3Flows.xsd\n",
      "Reading File  TestbedWedJun16-3Flows.xsd\n",
      "Time taken: 0.0011000633239746094\n",
      "TestbedMonJun14Flows.xml\n",
      "Reading File  TestbedMonJun14Flows.xml\n",
      "Time taken: 34.15058183670044\n",
      "TestbedThuJun17-2Flows.xsd\n",
      "Reading File  TestbedThuJun17-2Flows.xsd\n",
      "Time taken: 1.4090266227722168\n",
      "TestbedThuJun17-2Flows.xml\n",
      "Reading File  TestbedThuJun17-2Flows.xml\n",
      "Time taken: 37.52393960952759\n",
      "TestbedSatJun12Flows.xml\n",
      "Reading File  TestbedSatJun12Flows.xml\n",
      "Time taken: 26.260624647140503\n",
      "TestbedTueJun15-3Flows.xml\n",
      "Reading File  TestbedTueJun15-3Flows.xml\n",
      "Time taken: 134.54812002182007\n",
      "TestbedThuJun17-1Flows.xml\n",
      "TestbedTueJun15-1Flows.xml\n",
      "Reading File  TestbedTueJun15-1Flows.xml\n",
      "Time taken: 49.94239592552185\n",
      "TestbedThuJun17-3Flows.xsd\n",
      "Reading File  TestbedThuJun17-3Flows.xsd\n",
      "Time taken: 1.5284090042114258\n",
      "TestbedThuJun17-3Flows.xml\n",
      "Reading File  TestbedThuJun17-3Flows.xml\n",
      "Time taken: 8.022710084915161\n",
      "TestbedSatJun12Flows.xsd\n",
      "Reading File  TestbedSatJun12Flows.xsd\n",
      "Time taken: 0.6235909461975098\n",
      "TestbedWedJun16-3Flows.xml\n",
      "Reading File  TestbedWedJun16-3Flows.xml\n",
      "Time taken: 42.1743586063385\n",
      "TestbedMonJun14Flows.xsd\n",
      "Reading File  TestbedMonJun14Flows.xsd\n",
      "Time taken: 1.3416762351989746\n",
      "TestbedWedJun16-2Flows.xsd\n",
      "Reading File  TestbedWedJun16-2Flows.xsd\n",
      "Time taken: 0.002010822296142578\n",
      "readme.txt\n",
      "labeled_flows_xml.zip\n",
      "Error in Opening Files =  ['T', 'e', 's', 't', 'b', 'e', 'd', 'T', 'h', 'u', 'J', 'u', 'n', '1', '7', '-', '1', 'F', 'l', 'o', 'w', 's', '.', 'x', 'm', 'l', 'r', 'e', 'a', 'd', 'm', 'e', '.', 't', 'x', 't', 'l', 'a', 'b', 'e', 'l', 'e', 'd', '_', 'f', 'l', 'o', 'w', 's', '_', 'x', 'm', 'l', '.', 'z', 'i', 'p']\n",
      "Counter =  802795\n",
      "DONE!\n"
     ]
    }
   ],
   "source": [
    "#import_directory = './ISCX-2012/labeled_flows_xml/'\n",
    "import_directory = './labeled_flows_xml/'\n",
    "\n",
    "files = os.listdir(import_directory)\n",
    "\n",
    "errors = []\n",
    "\n",
    "start_time = time.time()\n",
    "i = -1\n",
    "data_array = np.empty((0, 2))\n",
    "counter = 0\n",
    "actual = (50**2) * 3\n",
    "for file in files:\n",
    "    print(file)\n",
    "    try:\n",
    "        tree = ET.parse(import_directory + file)\n",
    "        print('Reading File ', file)\n",
    "        root = tree.getroot()\n",
    "    except:\n",
    "        errors += file\n",
    "        continue\n",
    "    for child in root:\n",
    "        for next_child in child:\n",
    "            if next_child.tag == 'destinationPayloadAsUTF':\n",
    "                if next_child.text is not None:\n",
    "                    x = next_child.text\n",
    "                    if len(x) > actual:\n",
    "                        x = x[: actual]\n",
    "                    else:\n",
    "                        while len(x) < actual:\n",
    "                            x += x\n",
    "                        x = x[:actual]\n",
    "                    if child.find('Tag').text == 'Normal':\n",
    "                        data_array = np.vstack((data_array, np.array([np.fromstring(x, dtype=np.uint8), 0])))\n",
    "                    else:\n",
    "                        data_array = np.vstack((data_array, np.array([np.fromstring(x, dtype=np.uint8), 1])))\n",
    "                    counter += 1\n",
    "    print('Time taken: {}'.format(time.time() - start_time))\n",
    "    start_time = time.time()\n",
    "    np.save('./ISCX-2012/Database2/destinationPayload_' + file, np.array(data_array))\n",
    "    data_array = np.empty((0, 2))\n",
    "\n",
    "print('Error in Opening Files = ', errors)\n",
    "print('Counter = ', counter)\n",
    "print('DONE!')"
   ]
  },
  {
   "cell_type": "code",
   "execution_count": null,
   "metadata": {},
   "outputs": [],
   "source": []
  },
  {
   "cell_type": "code",
   "execution_count": 21,
   "metadata": {},
   "outputs": [
    {
     "name": "stdout",
     "output_type": "stream",
     "text": [
      "TestbedSunJun13Flows.xml\n",
      "Reading File  TestbedSunJun13Flows.xml\n"
     ]
    },
    {
     "name": "stderr",
     "output_type": "stream",
     "text": [
      "/home/reck/anaconda2/envs/dev-reck-py36/lib/python3.6/site-packages/ipykernel_launcher.py:34: DeprecationWarning: The binary mode of fromstring is deprecated, as it behaves surprisingly on unicode inputs. Use frombuffer instead\n"
     ]
    },
    {
     "ename": "KeyboardInterrupt",
     "evalue": "",
     "output_type": "error",
     "traceback": [
      "\u001b[0;31m---------------------------------------------------------------------------\u001b[0m",
      "\u001b[0;31mKeyboardInterrupt\u001b[0m                         Traceback (most recent call last)",
      "\u001b[0;32m<ipython-input-21-42ef283f933e>\u001b[0m in \u001b[0;36m<module>\u001b[0;34m\u001b[0m\n\u001b[1;32m     32\u001b[0m                         \u001b[0mx\u001b[0m \u001b[0;34m=\u001b[0m \u001b[0mx\u001b[0m\u001b[0;34m[\u001b[0m\u001b[0;34m:\u001b[0m\u001b[0mactual\u001b[0m\u001b[0;34m]\u001b[0m\u001b[0;34m\u001b[0m\u001b[0;34m\u001b[0m\u001b[0m\n\u001b[1;32m     33\u001b[0m                     \u001b[0;32mif\u001b[0m \u001b[0mchild\u001b[0m\u001b[0;34m.\u001b[0m\u001b[0mfind\u001b[0m\u001b[0;34m(\u001b[0m\u001b[0;34m'Tag'\u001b[0m\u001b[0;34m)\u001b[0m\u001b[0;34m.\u001b[0m\u001b[0mtext\u001b[0m \u001b[0;34m==\u001b[0m \u001b[0;34m'Normal'\u001b[0m\u001b[0;34m:\u001b[0m\u001b[0;34m\u001b[0m\u001b[0;34m\u001b[0m\u001b[0m\n\u001b[0;32m---> 34\u001b[0;31m                         \u001b[0mdata_array\u001b[0m \u001b[0;34m=\u001b[0m \u001b[0mnp\u001b[0m\u001b[0;34m.\u001b[0m\u001b[0mvstack\u001b[0m\u001b[0;34m(\u001b[0m\u001b[0;34m(\u001b[0m\u001b[0mdata_array\u001b[0m\u001b[0;34m,\u001b[0m \u001b[0mnp\u001b[0m\u001b[0;34m.\u001b[0m\u001b[0marray\u001b[0m\u001b[0;34m(\u001b[0m\u001b[0;34m[\u001b[0m\u001b[0mnp\u001b[0m\u001b[0;34m.\u001b[0m\u001b[0mfromstring\u001b[0m\u001b[0;34m(\u001b[0m\u001b[0mx\u001b[0m\u001b[0;34m,\u001b[0m \u001b[0mdtype\u001b[0m\u001b[0;34m=\u001b[0m\u001b[0mnp\u001b[0m\u001b[0;34m.\u001b[0m\u001b[0muint8\u001b[0m\u001b[0;34m)\u001b[0m\u001b[0;34m,\u001b[0m \u001b[0;36m0\u001b[0m\u001b[0;34m]\u001b[0m\u001b[0;34m)\u001b[0m\u001b[0;34m)\u001b[0m\u001b[0;34m)\u001b[0m\u001b[0;34m\u001b[0m\u001b[0;34m\u001b[0m\u001b[0m\n\u001b[0m\u001b[1;32m     35\u001b[0m                     \u001b[0;32melse\u001b[0m\u001b[0;34m:\u001b[0m\u001b[0;34m\u001b[0m\u001b[0;34m\u001b[0m\u001b[0m\n\u001b[1;32m     36\u001b[0m                         \u001b[0mdata_array\u001b[0m \u001b[0;34m=\u001b[0m \u001b[0mnp\u001b[0m\u001b[0;34m.\u001b[0m\u001b[0mvstack\u001b[0m\u001b[0;34m(\u001b[0m\u001b[0;34m(\u001b[0m\u001b[0mdata_array\u001b[0m\u001b[0;34m,\u001b[0m \u001b[0mnp\u001b[0m\u001b[0;34m.\u001b[0m\u001b[0marray\u001b[0m\u001b[0;34m(\u001b[0m\u001b[0;34m[\u001b[0m\u001b[0mnp\u001b[0m\u001b[0;34m.\u001b[0m\u001b[0mfromstring\u001b[0m\u001b[0;34m(\u001b[0m\u001b[0mx\u001b[0m\u001b[0;34m,\u001b[0m \u001b[0mdtype\u001b[0m\u001b[0;34m=\u001b[0m\u001b[0mnp\u001b[0m\u001b[0;34m.\u001b[0m\u001b[0muint8\u001b[0m\u001b[0;34m)\u001b[0m\u001b[0;34m,\u001b[0m \u001b[0;36m1\u001b[0m\u001b[0;34m]\u001b[0m\u001b[0;34m)\u001b[0m\u001b[0;34m)\u001b[0m\u001b[0;34m)\u001b[0m\u001b[0;34m\u001b[0m\u001b[0;34m\u001b[0m\u001b[0m\n",
      "\u001b[0;31mKeyboardInterrupt\u001b[0m: "
     ]
    }
   ],
   "source": [
    "# Show info.\n",
    "#import_directory = './ISCX-2012/labeled_flows_xml/'\n",
    "import_directory = './labeled_flows_xml/'\n",
    "\n",
    "files = os.listdir(import_directory)\n",
    "\n",
    "errors = []\n",
    "\n",
    "start_time = time.time()\n",
    "i = -1\n",
    "data_array = np.empty((0, 2))\n",
    "counter = 0\n",
    "actual = (50**2) * 3\n",
    "for file in files:\n",
    "    print(file)\n",
    "    try:\n",
    "        tree = ET.parse(import_directory + file)\n",
    "        print('Reading File ', file)\n",
    "        root = tree.getroot()\n",
    "    except:\n",
    "        errors += file\n",
    "        continue\n",
    "    for child in root:\n",
    "        for next_child in child:\n",
    "            if next_child.tag == 'destinationPayloadAsUTF':\n",
    "                if next_child.text is not None:\n",
    "                    x = next_child.text\n",
    "                    if len(x) > actual:\n",
    "                        x = x[: actual]\n",
    "                    else:\n",
    "                        while len(x) < actual:\n",
    "                            x += x\n",
    "                        x = x[:actual]\n",
    "                    if child.find('Tag').text == 'Normal':\n",
    "                        data_array = np.vstack((data_array, np.array([np.fromstring(x, dtype=np.uint8), 0])))\n",
    "                    else:\n",
    "                        data_array = np.vstack((data_array, np.array([np.fromstring(x, dtype=np.uint8), 1])))\n",
    "                    counter += 1\n",
    "                    break\n",
    "        \n",
    "    break\n",
    "    print('Time taken: {}'.format(time.time() - start_time))\n",
    "    start_time = time.time()\n",
    "    #np.save('./ISCX-2012/Database2/destinationPayload_' + file, np.array(data_array))\n",
    "    data_array = np.empty((0, 2))\n",
    "\n",
    "print('Error in Opening Files = ', errors)\n",
    "print('Counter = ', counter)\n",
    "print('DONE!')"
   ]
  },
  {
   "cell_type": "code",
   "execution_count": 22,
   "metadata": {},
   "outputs": [
    {
     "data": {
      "text/plain": [
       "'destinationPayloadAsUTF'"
      ]
     },
     "execution_count": 22,
     "metadata": {},
     "output_type": "execute_result"
    }
   ],
   "source": [
    "next_child.tag"
   ]
  },
  {
   "cell_type": "code",
   "execution_count": 23,
   "metadata": {},
   "outputs": [
    {
     "data": {
      "text/plain": [
       "'........cdn.photobucket.com.cfootprint.net......4'"
      ]
     },
     "execution_count": 23,
     "metadata": {},
     "output_type": "execute_result"
    }
   ],
   "source": [
    "next_child.text"
   ]
  },
  {
   "cell_type": "code",
   "execution_count": 34,
   "metadata": {},
   "outputs": [
    {
     "data": {
      "text/plain": [
       "'TestbedSunJun13Flows.xml'"
      ]
     },
     "execution_count": 34,
     "metadata": {},
     "output_type": "execute_result"
    }
   ],
   "source": [
    "file"
   ]
  },
  {
   "cell_type": "code",
   "execution_count": 30,
   "metadata": {},
   "outputs": [
    {
     "data": {
      "text/plain": [
       "'Normal'"
      ]
     },
     "execution_count": 30,
     "metadata": {},
     "output_type": "execute_result"
    }
   ],
   "source": [
    "child.find('Tag').text"
   ]
  },
  {
   "cell_type": "code",
   "execution_count": 31,
   "metadata": {},
   "outputs": [
    {
     "data": {
      "text/plain": [
       "'........cdn.photobucket.com.cfootprint.net......4'"
      ]
     },
     "execution_count": 31,
     "metadata": {},
     "output_type": "execute_result"
    }
   ],
   "source": [
    "next_child.text"
   ]
  },
  {
   "cell_type": "code",
   "execution_count": 32,
   "metadata": {},
   "outputs": [
    {
     "data": {
      "text/plain": [
       "7500"
      ]
     },
     "execution_count": 32,
     "metadata": {},
     "output_type": "execute_result"
    }
   ],
   "source": [
    "len(x)"
   ]
  },
  {
   "cell_type": "code",
   "execution_count": 33,
   "metadata": {},
   "outputs": [
    {
     "data": {
      "text/plain": [
       "'........cdn.photobucket.com.cfootprint.net......4........cdn.photobucket.com.cfootprint.net......4........cdn.photobucket.com.cfootprint.net......4........cdn.photobucket.com.cfootprint.net......4........cdn.photobucket.com.cfootprint.net......4........cdn.photobucket.com.cfootprint.net......4........cdn.photobucket.com.cfootprint.net......4........cdn.photobucket.com.cfootprint.net......4........cdn.photobucket.com.cfootprint.net......4........cdn.photobucket.com.cfootprint.net......4........cdn.photobucket.com.cfootprint.net......4........cdn.photobucket.com.cfootprint.net......4........cdn.photobucket.com.cfootprint.net......4........cdn.photobucket.com.cfootprint.net......4........cdn.photobucket.com.cfootprint.net......4........cdn.photobucket.com.cfootprint.net......4........cdn.photobucket.com.cfootprint.net......4........cdn.photobucket.com.cfootprint.net......4........cdn.photobucket.com.cfootprint.net......4........cdn.photobucket.com.cfootprint.net......4........cdn.photobucket.com.cfootprint.net......4........cdn.photobucket.com.cfootprint.net......4........cdn.photobucket.com.cfootprint.net......4........cdn.photobucket.com.cfootprint.net......4........cdn.photobucket.com.cfootprint.net......4........cdn.photobucket.com.cfootprint.net......4........cdn.photobucket.com.cfootprint.net......4........cdn.photobucket.com.cfootprint.net......4........cdn.photobucket.com.cfootprint.net......4........cdn.photobucket.com.cfootprint.net......4........cdn.photobucket.com.cfootprint.net......4........cdn.photobucket.com.cfootprint.net......4........cdn.photobucket.com.cfootprint.net......4........cdn.photobucket.com.cfootprint.net......4........cdn.photobucket.com.cfootprint.net......4........cdn.photobucket.com.cfootprint.net......4........cdn.photobucket.com.cfootprint.net......4........cdn.photobucket.com.cfootprint.net......4........cdn.photobucket.com.cfootprint.net......4........cdn.photobucket.com.cfootprint.net......4........cdn.photobucket.com.cfootprint.net......4........cdn.photobucket.com.cfootprint.net......4........cdn.photobucket.com.cfootprint.net......4........cdn.photobucket.com.cfootprint.net......4........cdn.photobucket.com.cfootprint.net......4........cdn.photobucket.com.cfootprint.net......4........cdn.photobucket.com.cfootprint.net......4........cdn.photobucket.com.cfootprint.net......4........cdn.photobucket.com.cfootprint.net......4........cdn.photobucket.com.cfootprint.net......4........cdn.photobucket.com.cfootprint.net......4........cdn.photobucket.com.cfootprint.net......4........cdn.photobucket.com.cfootprint.net......4........cdn.photobucket.com.cfootprint.net......4........cdn.photobucket.com.cfootprint.net......4........cdn.photobucket.com.cfootprint.net......4........cdn.photobucket.com.cfootprint.net......4........cdn.photobucket.com.cfootprint.net......4........cdn.photobucket.com.cfootprint.net......4........cdn.photobucket.com.cfootprint.net......4........cdn.photobucket.com.cfootprint.net......4........cdn.photobucket.com.cfootprint.net......4........cdn.photobucket.com.cfootprint.net......4........cdn.photobucket.com.cfootprint.net......4........cdn.photobucket.com.cfootprint.net......4........cdn.photobucket.com.cfootprint.net......4........cdn.photobucket.com.cfootprint.net......4........cdn.photobucket.com.cfootprint.net......4........cdn.photobucket.com.cfootprint.net......4........cdn.photobucket.com.cfootprint.net......4........cdn.photobucket.com.cfootprint.net......4........cdn.photobucket.com.cfootprint.net......4........cdn.photobucket.com.cfootprint.net......4........cdn.photobucket.com.cfootprint.net......4........cdn.photobucket.com.cfootprint.net......4........cdn.photobucket.com.cfootprint.net......4........cdn.photobucket.com.cfootprint.net......4........cdn.photobucket.com.cfootprint.net......4........cdn.photobucket.com.cfootprint.net......4........cdn.photobucket.com.cfootprint.net......4........cdn.photobucket.com.cfootprint.net......4........cdn.photobucket.com.cfootprint.net......4........cdn.photobucket.com.cfootprint.net......4........cdn.photobucket.com.cfootprint.net......4........cdn.photobucket.com.cfootprint.net......4........cdn.photobucket.com.cfootprint.net......4........cdn.photobucket.com.cfootprint.net......4........cdn.photobucket.com.cfootprint.net......4........cdn.photobucket.com.cfootprint.net......4........cdn.photobucket.com.cfootprint.net......4........cdn.photobucket.com.cfootprint.net......4........cdn.photobucket.com.cfootprint.net......4........cdn.photobucket.com.cfootprint.net......4........cdn.photobucket.com.cfootprint.net......4........cdn.photobucket.com.cfootprint.net......4........cdn.photobucket.com.cfootprint.net......4........cdn.photobucket.com.cfootprint.net......4........cdn.photobucket.com.cfootprint.net......4........cdn.photobucket.com.cfootprint.net......4........cdn.photobucket.com.cfootprint.net......4........cdn.photobucket.com.cfootprint.net......4........cdn.photobucket.com.cfootprint.net......4........cdn.photobucket.com.cfootprint.net......4........cdn.photobucket.com.cfootprint.net......4........cdn.photobucket.com.cfootprint.net......4........cdn.photobucket.com.cfootprint.net......4........cdn.photobucket.com.cfootprint.net......4........cdn.photobucket.com.cfootprint.net......4........cdn.photobucket.com.cfootprint.net......4........cdn.photobucket.com.cfootprint.net......4........cdn.photobucket.com.cfootprint.net......4........cdn.photobucket.com.cfootprint.net......4........cdn.photobucket.com.cfootprint.net......4........cdn.photobucket.com.cfootprint.net......4........cdn.photobucket.com.cfootprint.net......4........cdn.photobucket.com.cfootprint.net......4........cdn.photobucket.com.cfootprint.net......4........cdn.photobucket.com.cfootprint.net......4........cdn.photobucket.com.cfootprint.net......4........cdn.photobucket.com.cfootprint.net......4........cdn.photobucket.com.cfootprint.net......4........cdn.photobucket.com.cfootprint.net......4........cdn.photobucket.com.cfootprint.net......4........cdn.photobucket.com.cfootprint.net......4........cdn.photobucket.com.cfootprint.net......4........cdn.photobucket.com.cfootprint.net......4........cdn.photobucket.com.cfootprint.net......4........cdn.photobucket.com.cfootprint.net......4........cdn.photobucket.com.cfootprint.net......4........cdn.photobucket.com.cfootprint.net......4........cdn.photobucket.com.cfootprint.net......4........cdn.photobucket.com.cfootprint.net......4........cdn.photobucket.com.cfootprint.net......4........cdn.photobucket.com.cfootprint.net......4........cdn.photobucket.com.cfootprint.net......4........cdn.photobucket.com.cfootprint.net......4........cdn.photobucket.com.cfootprint.net......4........cdn.photobucket.com.cfootprint.net......4........cdn.photobucket.com.cfootprint.net......4........cdn.photobucket.com.cfootprint.net......4........cdn.photobucket.com.cfootprint.net......4........cdn.photobucket.com.cfootprint.net......4........cdn.photobucket.com.cfootprint.net......4........cdn.photobucket.com.cfootprint.net......4........cdn.photobucket.com.cfootprint.net......4........cdn.photobucket.com.cfootprint.net......4........cdn.photobucket.com.cfootprint.net......4........cdn.photobucket.com.cfootprint.net......4........cdn.photobucket.com.cfootprint.net......4........cdn.photobucket.com.cfootprint.net......4........cdn.photobucket.com.cfootprint.net......4........cdn.photobucket.com.cfootprint.net......4........cdn.photobucket.com.cfootprint.net......4...'"
      ]
     },
     "execution_count": 33,
     "metadata": {},
     "output_type": "execute_result"
    }
   ],
   "source": [
    "# Payload is repeated into 7500 if it is not as long as 7500\n",
    "x"
   ]
  },
  {
   "cell_type": "code",
   "execution_count": null,
   "metadata": {},
   "outputs": [],
   "source": []
  }
 ],
 "metadata": {
  "kernelspec": {
   "display_name": "dev-reck-py36",
   "language": "python",
   "name": "dev-reck-py36"
  },
  "language_info": {
   "codemirror_mode": {
    "name": "ipython",
    "version": 3
   },
   "file_extension": ".py",
   "mimetype": "text/x-python",
   "name": "python",
   "nbconvert_exporter": "python",
   "pygments_lexer": "ipython3",
   "version": "3.6.8"
  }
 },
 "nbformat": 4,
 "nbformat_minor": 2
}
